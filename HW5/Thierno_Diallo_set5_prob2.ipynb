{
  "cells": [
    {
      "cell_type": "markdown",
      "metadata": {
        "id": "ma-H94tfWv4g"
      },
      "source": [
        "[![Open In Colab](https://colab.research.google.com/assets/colab-badge.svg)](https://colab.research.google.com/github/emiletimothy/Caltech-CS155-2023/blob/main/set5/set5_prob2.ipynb)\n"
      ]
    },
    {
      "cell_type": "markdown",
      "metadata": {
        "id": "VpoYyvAYWv4j"
      },
      "source": [
        "# Problem 2"
      ]
    },
    {
      "cell_type": "code",
      "execution_count": null,
      "metadata": {
        "id": "OkhUynS2Wv4j"
      },
      "outputs": [],
      "source": [
        "import numpy as np\n",
        "import matplotlib.pyplot as plt"
      ]
    },
    {
      "cell_type": "code",
      "execution_count": null,
      "metadata": {
        "colab": {
          "base_uri": "https://localhost:8080/"
        },
        "id": "vJWbSuLMWv4j",
        "outputId": "f2bdec59-d601-4f91-eddd-9967dc16aaef"
      },
      "outputs": [
        {
          "output_type": "stream",
          "name": "stdout",
          "text": [
            "--2023-02-28 23:20:42--  https://raw.githubusercontent.com/emiletimothy/Caltech-CS155-2023/main/set5/data/train.txt\n",
            "Resolving raw.githubusercontent.com (raw.githubusercontent.com)... 185.199.108.133, 185.199.109.133, 185.199.110.133, ...\n",
            "Connecting to raw.githubusercontent.com (raw.githubusercontent.com)|185.199.108.133|:443... connected.\n",
            "HTTP request sent, awaiting response... 200 OK\n",
            "Length: 685602 (670K) [text/plain]\n",
            "Saving to: ‘train.txt’\n",
            "\n",
            "\rtrain.txt             0%[                    ]       0  --.-KB/s               \rtrain.txt           100%[===================>] 669.53K  --.-KB/s    in 0.01s   \n",
            "\n",
            "2023-02-28 23:20:42 (66.1 MB/s) - ‘train.txt’ saved [685602/685602]\n",
            "\n",
            "--2023-02-28 23:20:43--  https://raw.githubusercontent.com/emiletimothy/Caltech-CS155-2023/main/set5/data/test.txt\n",
            "Resolving raw.githubusercontent.com (raw.githubusercontent.com)... 185.199.108.133, 185.199.109.133, 185.199.110.133, ...\n",
            "Connecting to raw.githubusercontent.com (raw.githubusercontent.com)|185.199.108.133|:443... connected.\n",
            "HTTP request sent, awaiting response... 200 OK\n",
            "Length: 293571 (287K) [text/plain]\n",
            "Saving to: ‘test.txt’\n",
            "\n",
            "test.txt            100%[===================>] 286.69K  --.-KB/s    in 0.003s  \n",
            "\n",
            "2023-02-28 23:20:43 (84.3 MB/s) - ‘test.txt’ saved [293571/293571]\n",
            "\n"
          ]
        }
      ],
      "source": [
        "# download the dataset\n",
        "!wget -O train.txt https://raw.githubusercontent.com/emiletimothy/Caltech-CS155-2023/main/set5/data/train.txt\n",
        "!wget -O test.txt https://raw.githubusercontent.com/emiletimothy/Caltech-CS155-2023/main/set5/data/test.txt"
      ]
    },
    {
      "cell_type": "markdown",
      "metadata": {
        "id": "fd92Q0WHWv4k"
      },
      "source": [
        "## 2C:\n",
        "Fill in these functions to train your SVD"
      ]
    },
    {
      "cell_type": "code",
      "execution_count": null,
      "metadata": {
        "id": "6cN_5PVhWv4k"
      },
      "outputs": [],
      "source": [
        "def grad_U(Ui, Yij, Vj, reg, eta):\n",
        "    \"\"\"\n",
        "    Takes as input Ui (the ith row of U), a training point Yij, the column\n",
        "    vector Vj (jth column of V^T), reg (the regularization parameter lambda),\n",
        "    and eta (the learning rate).\n",
        "\n",
        "    Returns the gradient of the regularized loss function with\n",
        "    respect to Ui multiplied by eta.\n",
        "    \"\"\"\n",
        "    return eta * ((reg * Ui) - (Vj * (Yij - np.matmul(Ui, Vj))))\n",
        "\n",
        "def grad_V(Vj, Yij, Ui, reg, eta):\n",
        "    \"\"\"\n",
        "    Takes as input the column vector Vj (jth column of V^T), a training point Yij,\n",
        "    Ui (the ith row of U), reg (the regularization parameter lambda),\n",
        "    and eta (the learning rate).\n",
        "\n",
        "    Returns the gradient of the regularized loss function with\n",
        "    respect to Vj multiplied by eta.\n",
        "    \"\"\"\n",
        "    return eta * ((reg * Vj) - (Ui * (Yij - np.matmul(Ui, Vj))))\n",
        "\n",
        "def get_err(U, V, Y, reg=0.0):\n",
        "    \"\"\"\n",
        "    Takes as input a matrix Y of triples (i, j, Y_ij) where i is the index of a user,\n",
        "    j is the index of a movie, and Y_ij is user i's rating of movie j and\n",
        "    user/movie matrices U and V.\n",
        "\n",
        "    Returns the mean regularized squared-error of predictions made by\n",
        "    estimating Y_{ij} as the dot product of the ith row of U and the jth column of V^T.\n",
        "    \"\"\"\n",
        "    summation = [0.5 * ((yij - np.matmul(U[i-1], V[j-1])) ** 2) for (i, j, yij) in Y]\n",
        "    Uf = np.linalg.norm(U, ord='fro')\n",
        "    Vf = np.linalg.norm(V, ord='fro')\n",
        "    min = (reg/2) * ((Uf ** 2) + (Vf ** 2))\n",
        "    return (min + np.sum(summation)) / len(Y)\n",
        "\n",
        "def train_model(M, N, K, eta, reg, Y, eps=0.0001, max_epochs=300):\n",
        "    \"\"\"\n",
        "    Given a training data matrix Y containing rows (i, j, Y_ij)\n",
        "    where Y_ij is user i's rating on movie j, learns an\n",
        "    M x K matrix U and N x K matrix V such that rating Y_ij is approximated\n",
        "    by (UV^T)_ij.\n",
        "\n",
        "    Uses a learning rate of <eta> and regularization of <reg>. Stops after\n",
        "    <max_epochs> epochs, or once the magnitude of the decrease in regularized\n",
        "    MSE between epochs is smaller than a fraction <eps> of the decrease in\n",
        "    MSE after the first epoch.\n",
        "\n",
        "    Returns a tuple (U, V, err) consisting of U, V, and the unregularized MSE\n",
        "    of the model.\n",
        "    \"\"\"\n",
        "    U = np.random.uniform(low=-0.5, high=0.5, size=(M, K))\n",
        "    V = np.random.uniform(low=-0.5, high=0.5, size=(N, K))\n",
        "    ep_0 = 0\n",
        "    for ep in range(max_epochs):\n",
        "      idxs = np.random.permutation(len(Y))\n",
        "      old_Ein = get_err(U, V, Y, reg)\n",
        "      # Train/Update U and V using SGD\n",
        "      for idx in idxs:\n",
        "        i, j, yij = Y[idx]\n",
        "        U[i-1] -= grad_U(U[i-1], yij, V[j-1], reg, eta)\n",
        "        V[j-1] -= grad_V(V[j-1], yij, U[i-1], reg, eta)\n",
        "      curr_Ein = get_err(U, V, Y, reg)\n",
        "      if (ep == 0):\n",
        "        ep_0 = old_Ein - curr_Ein\n",
        "      elif (((old_Ein - curr_Ein) / (ep_0)) <= eps):\n",
        "        break\n",
        "    return (U, V, get_err(U, V, Y))\n",
        "\n",
        "      "
      ]
    },
    {
      "cell_type": "markdown",
      "metadata": {
        "id": "h8rn7jcyWv4k"
      },
      "source": [
        "## 2D:\n",
        "Run the cell below to get your graphs"
      ]
    },
    {
      "cell_type": "code",
      "execution_count": null,
      "metadata": {
        "colab": {
          "base_uri": "https://localhost:8080/",
          "height": 312
        },
        "id": "Y0FyYbquWv4k",
        "outputId": "9e0aed57-32e2-4d54-a06d-3486b2e6e424"
      },
      "outputs": [
        {
          "output_type": "stream",
          "name": "stdout",
          "text": [
            "Factorizing with  943  users,  1682  movies.\n"
          ]
        },
        {
          "output_type": "display_data",
          "data": {
            "text/plain": [
              "<Figure size 432x288 with 1 Axes>"
            ],
            "image/png": "[encoded data removed]"
          },
          "metadata": {
            "needs_background": "light"
          }
        }
      ],
      "source": [
        "Y_train = np.loadtxt('train.txt').astype(int)\n",
        "Y_test = np.loadtxt('test.txt').astype(int)\n",
        "\n",
        "M = max(max(Y_train[:,0]), max(Y_test[:,0])).astype(int) # users\n",
        "N = max(max(Y_train[:,1]), max(Y_test[:,1])).astype(int) # movies\n",
        "print(\"Factorizing with \", M, \" users, \", N, \" movies.\")\n",
        "Ks = [10,20,30,50,100]\n",
        "\n",
        "reg = 0.0\n",
        "eta = 0.03 # learning rate\n",
        "E_in = []\n",
        "E_out = []\n",
        "\n",
        "# Use to compute Ein and Eout\n",
        "for K in Ks:\n",
        "    U,V, err = train_model(M, N, K, eta, reg, Y_train)\n",
        "    E_in.append(err)\n",
        "    E_out.append(get_err(U, V, Y_test))\n",
        "\n",
        "plt.plot(Ks, E_in, label='$E_{in}$')\n",
        "plt.plot(Ks, E_out, label='$E_{out}$')\n",
        "plt.title('Error vs. K')\n",
        "plt.xlabel('K')\n",
        "plt.ylabel('Error')\n",
        "plt.legend()\n",
        "plt.savefig('2d.png')"
      ]
    },
    {
      "cell_type": "markdown",
      "metadata": {
        "id": "3_XBAEsiWv4l"
      },
      "source": [
        "## 2E:\n",
        "Run the cell below to get your graphs. This might take a long time to run, but it should take less than 2 hours. I would encourage you to validate your 2C is correct."
      ]
    },
    {
      "cell_type": "code",
      "execution_count": null,
      "metadata": {
        "colab": {
          "base_uri": "https://localhost:8080/"
        },
        "id": "JzQdtWs_Wv4l",
        "outputId": "924df8c6-fbb4-482d-986f-51e51ec167c6"
      },
      "outputs": [
        {
          "output_type": "stream",
          "name": "stdout",
          "text": [
            "Training model with M = 943, N = 1682, k = 10, eta = 0.03, reg = 0.0001\n",
            "Training model with M = 943, N = 1682, k = 20, eta = 0.03, reg = 0.0001\n",
            "Training model with M = 943, N = 1682, k = 30, eta = 0.03, reg = 0.0001\n",
            "Training model with M = 943, N = 1682, k = 50, eta = 0.03, reg = 0.0001\n",
            "Training model with M = 943, N = 1682, k = 100, eta = 0.03, reg = 0.0001\n",
            "Training model with M = 943, N = 1682, k = 10, eta = 0.03, reg = 0.001\n",
            "Training model with M = 943, N = 1682, k = 20, eta = 0.03, reg = 0.001\n",
            "Training model with M = 943, N = 1682, k = 30, eta = 0.03, reg = 0.001\n",
            "Training model with M = 943, N = 1682, k = 50, eta = 0.03, reg = 0.001\n",
            "Training model with M = 943, N = 1682, k = 100, eta = 0.03, reg = 0.001\n",
            "Training model with M = 943, N = 1682, k = 10, eta = 0.03, reg = 0.01\n",
            "Training model with M = 943, N = 1682, k = 20, eta = 0.03, reg = 0.01\n",
            "Training model with M = 943, N = 1682, k = 30, eta = 0.03, reg = 0.01\n",
            "Training model with M = 943, N = 1682, k = 50, eta = 0.03, reg = 0.01\n",
            "Training model with M = 943, N = 1682, k = 100, eta = 0.03, reg = 0.01\n",
            "Training model with M = 943, N = 1682, k = 10, eta = 0.03, reg = 0.1\n",
            "Training model with M = 943, N = 1682, k = 20, eta = 0.03, reg = 0.1\n",
            "Training model with M = 943, N = 1682, k = 30, eta = 0.03, reg = 0.1\n",
            "Training model with M = 943, N = 1682, k = 50, eta = 0.03, reg = 0.1\n",
            "Training model with M = 943, N = 1682, k = 100, eta = 0.03, reg = 0.1\n",
            "Training model with M = 943, N = 1682, k = 10, eta = 0.03, reg = 1\n",
            "Training model with M = 943, N = 1682, k = 20, eta = 0.03, reg = 1\n",
            "Training model with M = 943, N = 1682, k = 30, eta = 0.03, reg = 1\n",
            "Training model with M = 943, N = 1682, k = 50, eta = 0.03, reg = 1\n",
            "Training model with M = 943, N = 1682, k = 100, eta = 0.03, reg = 1\n"
          ]
        }
      ],
      "source": [
        "Y_train = np.loadtxt('train.txt').astype(int)\n",
        "Y_test = np.loadtxt('test.txt').astype(int)\n",
        "\n",
        "M = max(max(Y_train[:,0]), max(Y_test[:,0])).astype(int) # users\n",
        "N = max(max(Y_train[:,1]), max(Y_test[:,1])).astype(int) # movies\n",
        "Ks = [10,20,30,50,100]\n",
        "\n",
        "regs = [10**-4, 10**-3, 10**-2, 10**-1, 1]\n",
        "eta = 0.03 # learning rate\n",
        "E_ins = []\n",
        "E_outs = []\n",
        "\n",
        "# Use to compute Ein and Eout\n",
        "for reg in regs:\n",
        "    E_ins_for_lambda = []\n",
        "    E_outs_for_lambda = []\n",
        "\n",
        "    for k in Ks:\n",
        "        print(\"Training model with M = %s, N = %s, k = %s, eta = %s, reg = %s\"%(M, N, k, eta, reg))\n",
        "        U,V, e_in = train_model(M, N, k, eta, reg, Y_train)\n",
        "        E_ins_for_lambda.append(e_in)\n",
        "        eout = get_err(U, V, Y_test)\n",
        "        E_outs_for_lambda.append(eout)\n",
        "\n",
        "    E_ins.append(E_ins_for_lambda)\n",
        "    E_outs.append(E_outs_for_lambda)\t\n"
      ]
    },
    {
      "cell_type": "code",
      "source": [
        "# Plot values of E_in across k for each value of lambda\n",
        "for i in range(len(regs)):\n",
        "    plt.plot(Ks, E_ins[i], label='$E_{in}, \\lambda=$'+str(regs[i]))\n",
        "plt.title('$E_{in}$ vs. K')\n",
        "plt.xlabel('K')\n",
        "plt.ylabel('Error')\n",
        "plt.legend()\n",
        "plt.savefig('2e_ein.png')\t\t"
      ],
      "metadata": {
        "colab": {
          "base_uri": "https://localhost:8080/",
          "height": 296
        },
        "id": "an-SCJKKCRoH",
        "outputId": "f6900cd3-95be-4bcc-e853-7c529930b7b5"
      },
      "execution_count": null,
      "outputs": [
        {
          "output_type": "display_data",
          "data": {
            "text/plain": [
              "<Figure size 432x288 with 1 Axes>"
            ],
            "image/png": "[encoded data removed]"
          },
          "metadata": {
            "needs_background": "light"
          }
        }
      ]
    },
    {
      "cell_type": "code",
      "source": [
        "plt.clf()\n",
        "\n",
        "#Plot values of E_out across k for each value of lambda\n",
        "for i in range(len(regs)):\n",
        "    plt.plot(Ks, E_outs[i], label='$E_{out}, \\lambda=$'+str(regs[i]))\n",
        "plt.title('$E_{out}$ vs. K')\n",
        "plt.xlabel('K')\n",
        "plt.ylabel('Error')\n",
        "plt.legend()\t\n",
        "plt.savefig('2e_eout.png')"
      ],
      "metadata": {
        "colab": {
          "base_uri": "https://localhost:8080/",
          "height": 296
        },
        "id": "8YWf7XP1VAPf",
        "outputId": "a11561b8-5876-4774-a4bc-746301a2517b"
      },
      "execution_count": null,
      "outputs": [
        {
          "output_type": "display_data",
          "data": {
            "text/plain": [
              "<Figure size 432x288 with 1 Axes>"
            ],
            "image/png": "[encoded data removed]"
          },
          "metadata": {
            "needs_background": "light"
          }
        }
      ]
    },
    {
      "cell_type": "code",
      "execution_count": null,
      "metadata": {
        "id": "vL4T5wSIWv4l"
      },
      "outputs": [],
      "source": []
    }
  ],
  "metadata": {
    "colab": {
      "provenance": []
    },
    "kernelspec": {
      "display_name": "Python 3",
      "language": "python",
      "name": "python3"
    },
    "language_info": {
      "codemirror_mode": {
        "name": "ipython",
        "version": 3
      },
      "file_extension": ".py",
      "mimetype": "text/x-python",
      "name": "python",
      "nbconvert_exporter": "python",
      "pygments_lexer": "ipython3",
      "version": "3.5.4"
    }
  },
  "nbformat": 4,
  "nbformat_minor": 0
}