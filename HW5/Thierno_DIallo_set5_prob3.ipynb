{
  "cells": [
    {
      "cell_type": "markdown",
      "metadata": {
        "id": "UwdvrXTFLOQD"
      },
      "source": [
        "[![Open In Colab](https://colab.research.google.com/assets/colab-badge.svg)](https://colab.research.google.com/github/emiletimothy/Caltech-CS155-2023/blob/main/set5/set5_prob3.ipynb)\n"
      ]
    },
    {
      "cell_type": "markdown",
      "metadata": {
        "id": "ViXzmmMF4T9_"
      },
      "source": [
        "## Set 5\n",
        "## 3. Word2Vec **Principles**"
      ]
    },
    {
      "cell_type": "markdown",
      "metadata": {
        "id": "HXT_eNcB93ue"
      },
      "source": [
        "#### Preparation"
      ]
    },
    {
      "cell_type": "code",
      "execution_count": null,
      "metadata": {
        "id": "2wZbd6FeH7cY",
        "outputId": "cf46647d-8325-494e-e5b8-c6f5605aab65",
        "colab": {
          "base_uri": "https://localhost:8080/"
        }
      },
      "outputs": [
        {
          "output_type": "stream",
          "name": "stdout",
          "text": [
            "--2023-03-01 11:50:44--  https://raw.githubusercontent.com/emiletimothy/Caltech-CS155-2023/main/set5/P3CHelpers.py\n",
            "Resolving raw.githubusercontent.com (raw.githubusercontent.com)... 185.199.108.133, 185.199.109.133, 185.199.110.133, ...\n",
            "Connecting to raw.githubusercontent.com (raw.githubusercontent.com)|185.199.108.133|:443... connected.\n",
            "HTTP request sent, awaiting response... 200 OK\n",
            "Length: 4939 (4.8K) [text/plain]\n",
            "Saving to: ‘P3CHelpers.py’\n",
            "\n",
            "P3CHelpers.py       100%[===================>]   4.82K  --.-KB/s    in 0s      \n",
            "\n",
            "2023-03-01 11:50:44 (51.0 MB/s) - ‘P3CHelpers.py’ saved [4939/4939]\n",
            "\n"
          ]
        }
      ],
      "source": [
        "# download the helper function\n",
        "!wget -O P3CHelpers.py https://raw.githubusercontent.com/emiletimothy/Caltech-CS155-2023/main/set5/P3CHelpers.py"
      ]
    },
    {
      "cell_type": "code",
      "execution_count": null,
      "metadata": {
        "id": "LmmdYcVUH9D8",
        "outputId": "d179cdf7-4ab6-4dde-978d-7b45897ab101",
        "colab": {
          "base_uri": "https://localhost:8080/"
        }
      },
      "outputs": [
        {
          "output_type": "stream",
          "name": "stdout",
          "text": [
            "--2023-03-01 11:50:44--  https://raw.githubusercontent.com/emiletimothy/Caltech-CS155-2023/main/set5/data/dr_seuss.txt\n",
            "Resolving raw.githubusercontent.com (raw.githubusercontent.com)... 185.199.108.133, 185.199.109.133, 185.199.110.133, ...\n",
            "Connecting to raw.githubusercontent.com (raw.githubusercontent.com)|185.199.108.133|:443... connected.\n",
            "HTTP request sent, awaiting response... 200 OK\n",
            "Length: 8810 (8.6K) [text/plain]\n",
            "Saving to: ‘dr_seuss.txt’\n",
            "\n",
            "dr_seuss.txt        100%[===================>]   8.60K  --.-KB/s    in 0s      \n",
            "\n",
            "2023-03-01 11:50:44 (60.9 MB/s) - ‘dr_seuss.txt’ saved [8810/8810]\n",
            "\n"
          ]
        }
      ],
      "source": [
        "# download the dataset\n",
        "!wget -O dr_seuss.txt https://raw.githubusercontent.com/emiletimothy/Caltech-CS155-2023/main/set5/data/dr_seuss.txt"
      ]
    },
    {
      "cell_type": "code",
      "execution_count": null,
      "metadata": {
        "id": "Groxh_Rz4QLB"
      },
      "outputs": [],
      "source": [
        "import numpy as np\n",
        "from P3CHelpers import *\n",
        "import torch\n",
        "import torch.nn as nn\n",
        "import torch.optim as optim"
      ]
    },
    {
      "cell_type": "markdown",
      "metadata": {
        "id": "h9aBEkZD5wb2"
      },
      "source": [
        "#### Problem D: \n",
        "Fill in the generate_traindata and find_most_similar_pairs functions."
      ]
    },
    {
      "cell_type": "code",
      "execution_count": null,
      "metadata": {
        "id": "UChXkrvs7OF0"
      },
      "outputs": [],
      "source": [
        "def get_word_repr(word_to_index, word):\n",
        "    \"\"\"\n",
        "    Returns one-hot-encoded feature representation of the specified word given\n",
        "    a dictionary mapping words to their one-hot-encoded index.\n",
        "\n",
        "    Arguments:\n",
        "        word_to_index: Dictionary mapping words to their corresponding index\n",
        "                       in a one-hot-encoded representation of our corpus.\n",
        "\n",
        "        word:          Word whose feature representation we wish to compute.\n",
        "\n",
        "    Returns:\n",
        "        feature_representation:     Feature representation of the passed-in word.\n",
        "    \"\"\"\n",
        "    unique_words = word_to_index.keys()\n",
        "    # Return a vector that's zero everywhere besides the index corresponding to <word>\n",
        "    feature_representation = np.zeros(len(unique_words))\n",
        "    feature_representation[word_to_index[word]] = 1\n",
        "    return feature_representation    \n",
        "\n",
        "def generate_traindata(word_list, word_to_index, window_size=4):\n",
        "    \"\"\"\n",
        "    Generates training data for Skipgram model.\n",
        "\n",
        "    Arguments:\n",
        "        word_list:     Sequential list of words (strings).\n",
        "        word_to_index: Dictionary mapping words to their corresponding index\n",
        "                       in a one-hot-encoded representation of our corpus.\n",
        "\n",
        "        window_size:   Size of Skipgram window. Defaults to 2 \n",
        "                       (use the default value when running your code).\n",
        "\n",
        "    Returns:\n",
        "        (trainX, trainY):     A pair of matrices (trainX, trainY) containing training \n",
        "                              points (one-hot-encoded vectors) and their corresponding output_word\n",
        "                              (also one-hot-encoded vectors)\n",
        "\n",
        "    \"\"\"\n",
        "    trainX = []\n",
        "    trainY = []\n",
        "    for i in range(len(word_list)):\n",
        "      Li = get_word_repr(word_to_index, word_list[i])\n",
        "      s1 = max(i - window_size, 0)\n",
        "      s2 = min(i + window_size + 1, len(word_list))\n",
        "      for j in range(s1, s2):\n",
        "        if (i != j):\n",
        "          trainX.append(Li)\n",
        "          Lj = get_word_repr(word_to_index, word_list[j])\n",
        "          trainY.append(Lj)\n",
        "    return np.array(trainX), np.array(trainY)"
      ]
    },
    {
      "cell_type": "code",
      "execution_count": null,
      "metadata": {
        "id": "OoaUtBqd7V-A"
      },
      "outputs": [],
      "source": [
        "from traitlets.traitlets import Float\n",
        "def find_most_similar_pairs(filename, num_latent_factors):\n",
        "    \"\"\"\n",
        "    Find the most similar pairs from the word embeddings computed from\n",
        "    a body of text\n",
        "    \n",
        "    Arguments:\n",
        "        filename:           Text file to read and train embeddings from\n",
        "        num_latent_factors: The number of latent factors / the size of the embedding\n",
        "    \"\"\"\n",
        "    # Load in a list of words from the specified file; remove non-alphanumeric characters\n",
        "    # and make all chars lowercase.\n",
        "    sample_text = load_word_list(filename)\n",
        "\n",
        "    # Create word dictionary\n",
        "    word_to_index = generate_onehot_dict(sample_text)\n",
        "    print(\"Textfile contains %s unique words\"%len(word_to_index))\n",
        "    # Create training data\n",
        "    trainX, trainY = generate_traindata(sample_text, word_to_index)\n",
        "\n",
        "    # vocab_size = number of unique words in our text file. Will be useful \n",
        "    # when adding layers to your neural network\n",
        "    vocab_size = len(word_to_index)\n",
        "    \n",
        "    #Model\n",
        "    train_dataset = torch.from_numpy(np.array([trainX, trainY])).type(torch.FloatTensor)\n",
        "    train_loader = torch.utils.data.DataLoader(train_dataset, batch_size=32, shuffle=True)\n",
        "    model = nn.Sequential(\n",
        "        nn.Linear(vocab_size, 10), \n",
        "        nn.Linear(10, vocab_size), nn.Softmax()\n",
        "        )\n",
        "    loss_f = nn.CrossEntropyLoss()\n",
        "    optimizer = torch.optim.Adam(model.parameters(), lr= 0.08)\n",
        "    \n",
        "    model.train()\n",
        "    for epoch in range(10):\n",
        "      for batch_idx, (data, target) in enumerate(train_loader):\n",
        "          # Erase accumulated gradients\n",
        "          optimizer.zero_grad()\n",
        "\n",
        "          # Forward pass\n",
        "          output = model(data)\n",
        "\n",
        "          # Calculate loss\n",
        "          loss = loss_f(output, target)\n",
        "\n",
        "          # Backward pass\n",
        "          loss.backward()\n",
        "          \n",
        "          # Weight update\n",
        "          optimizer.step()\n",
        "\n",
        "      # Track loss each epoch\n",
        "      print('Train Epoch: %d  Loss: %.4f' % (epoch + 1,  loss.item()))\n",
        "    model.eval()\n",
        "\n",
        "    print()\n",
        "    for par in model.named_parameters():\n",
        "      print(\"Name: \", par[0], \". Shape: \", par[1].shape)\n",
        "    # set weights variable below\n",
        "    weights = model.get_parameter('1.weight').detach().numpy()\n",
        "    \n",
        "    print()\n",
        "    # Find and print most similar pairs\n",
        "    similar_pairs = most_similar_pairs(weights, word_to_index)\n",
        "    for pair in similar_pairs[:30]:\n",
        "        print(pair)"
      ]
    },
    {
      "cell_type": "markdown",
      "metadata": {
        "id": "xFBMhtCJ8LyA"
      },
      "source": [
        "### Problem E-H:\n",
        "Run your model on drseuss.txt and answer questions from E through H."
      ]
    },
    {
      "cell_type": "code",
      "execution_count": null,
      "metadata": {
        "id": "bR7ZicNJ6tyN",
        "colab": {
          "base_uri": "https://localhost:8080/"
        },
        "outputId": "2c0d44dd-dbb2-4a9e-f089-e4ceedd9e12f"
      },
      "outputs": [
        {
          "output_type": "stream",
          "name": "stdout",
          "text": [
            "Textfile contains 308 unique words\n",
            "Train Epoch: 1  Loss: 5.7302\n",
            "Train Epoch: 2  Loss: 5.7298\n",
            "Train Epoch: 3  Loss: 5.7289\n",
            "Train Epoch: 4  Loss: 5.7276\n",
            "Train Epoch: 5  Loss: 5.7253\n",
            "Train Epoch: 6  Loss: 5.7215\n",
            "Train Epoch: 7  Loss: 5.7163\n",
            "Train Epoch: 8  Loss: 5.7100\n",
            "Train Epoch: 9  Loss: 5.7031\n",
            "Train Epoch: 10  Loss: 5.6961\n",
            "\n",
            "Name:  0.weight . Shape:  torch.Size([10, 308])\n",
            "Name:  0.bias . Shape:  torch.Size([10])\n",
            "Name:  1.weight . Shape:  torch.Size([308, 10])\n",
            "Name:  1.bias . Shape:  torch.Size([308])\n",
            "\n",
            "Pair(fear, take), Similarity: 0.9954883\n",
            "Pair(take, fear), Similarity: 0.9954883\n",
            "Pair(feet, low), Similarity: 0.99465114\n",
            "Pair(low, feet), Similarity: 0.99465114\n",
            "Pair(called, zeep), Similarity: 0.98782295\n",
            "Pair(zeep, called), Similarity: 0.98782295\n",
            "Pair(head, wave), Similarity: 0.98776114\n",
            "Pair(wave, head), Similarity: 0.98776114\n",
            "Pair(made, only), Similarity: 0.9875726\n",
            "Pair(only, made), Similarity: 0.9875726\n",
            "Pair(little, took), Similarity: 0.9871121\n",
            "Pair(took, little), Similarity: 0.9871121\n",
            "Pair(teeth, boat), Similarity: 0.9870644\n",
            "Pair(boat, teeth), Similarity: 0.9870644\n",
            "Pair(ned, pink), Similarity: 0.9868588\n",
            "Pair(pink, ned), Similarity: 0.9868588\n",
            "Pair(but, grow), Similarity: 0.98576736\n",
            "Pair(grow, but), Similarity: 0.98576736\n",
            "Pair(story, low), Similarity: 0.9852524\n",
            "Pair(it, foot), Similarity: 0.9851571\n",
            "Pair(foot, it), Similarity: 0.9851571\n",
            "Pair(dad, thin), Similarity: 0.98467755\n",
            "Pair(thin, dad), Similarity: 0.98467755\n",
            "Pair(fat, ride), Similarity: 0.98459214\n",
            "Pair(ride, fat), Similarity: 0.98459214\n",
            "Pair(too, take), Similarity: 0.98443496\n",
            "Pair(cant, way), Similarity: 0.9842897\n",
            "Pair(way, cant), Similarity: 0.9842897\n",
            "Pair(nine, boat), Similarity: 0.9842129\n",
            "Pair(cans, yink), Similarity: 0.984207\n"
          ]
        }
      ],
      "source": [
        "find_most_similar_pairs('dr_seuss.txt', 10)"
      ]
    },
    {
      "cell_type": "code",
      "execution_count": null,
      "metadata": {
        "id": "1OypGn399owV",
        "colab": {
          "base_uri": "https://localhost:8080/"
        },
        "outputId": "0320e282-3663-4645-bb47-a6e50891e0ad"
      },
      "outputs": [
        {
          "output_type": "stream",
          "name": "stdout",
          "text": [
            "\n"
          ]
        }
      ],
      "source": [
        "print()"
      ]
    }
  ],
  "metadata": {
    "colab": {
      "provenance": []
    },
    "kernelspec": {
      "display_name": "Python 3",
      "name": "python3"
    },
    "language_info": {
      "name": "python"
    }
  },
  "nbformat": 4,
  "nbformat_minor": 0
}