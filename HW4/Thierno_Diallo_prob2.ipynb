{
  "cells": [
    {
      "cell_type": "code",
      "execution_count": null,
      "metadata": {
        "id": "0fzZb8grE78U"
      },
      "outputs": [],
      "source": [
        "import torch\n",
        "import torch.nn as nn\n",
        "import torch.nn.functional as F\n",
        "from torch.utils.data import TensorDataset, DataLoader\n",
        "import numpy as np\n",
        "import pandas as pd\n",
        "import seaborn as sns\n",
        "from sklearn.model_selection import train_test_split as splits"
      ]
    },
    {
      "cell_type": "markdown",
      "metadata": {
        "id": "VvPFMow_NNry"
      },
      "source": [
        "# Part A: Data Setup"
      ]
    },
    {
      "cell_type": "code",
      "execution_count": null,
      "metadata": {
        "id": "7m_kQfspQJNf",
        "colab": {
          "base_uri": "https://localhost:8080/"
        },
        "outputId": "0bbbb2ed-efcf-4f18-d81d-071bd3e70870"
      },
      "outputs": [
        {
          "output_type": "stream",
          "name": "stdout",
          "text": [
            "Index(['Unnamed: 0', 'cdc_case_earliest_dt ', 'cdc_report_dt', 'pos_spec_dt',\n",
            "       'onset_dt', 'current_status', 'sex', 'age_group',\n",
            "       'race_ethnicity_combined', 'hosp_yn', 'icu_yn', 'death_yn',\n",
            "       'medcond_yn'],\n",
            "      dtype='object')\n"
          ]
        }
      ],
      "source": [
        "# data preprocessing\n",
        "df = pd.read_csv(\"https://raw.githubusercontent.com/emiletimothy/Caltech-CS155-2023/main/set4/data/COVID-19_Case_Surveillance_Public_Use_Data_Subset.csv\")\n",
        "df.drop(df[df[\"death_yn\"] == \"Missing\"].index, inplace=True)\n",
        "df.drop(df[df[\"death_yn\"] == \"Unknown\"].index, inplace=True)\n",
        "print(df.columns)"
      ]
    },
    {
      "cell_type": "code",
      "source": [
        "df.drop( 'medcond_yn', axis=1)\n",
        "for date in ['cdc_case_earliest_dt ', 'cdc_report_dt', 'pos_spec_dt',\n",
        "       'onset_dt']:\n",
        "       df[date] = pd.to_datetime(df[date], infer_datetime_format=True).astype('int64')\n",
        "       df[date]/df[date].max()\n",
        "\n",
        "for i in [ 'current_status', 'sex', 'age_group',\n",
        "       'race_ethnicity_combined', 'hosp_yn', 'icu_yn', 'Unnamed: 0', 'death_yn']:\n",
        "       df[i] = pd.factorize(df[i])[0].astype('float')\n"
      ],
      "metadata": {
        "colab": {
          "base_uri": "https://localhost:8080/"
        },
        "id": "OvK7R0kOP1MK",
        "outputId": "f438f41b-0fa2-4f1c-9f84-362375d1df5b"
      },
      "execution_count": null,
      "outputs": [
        {
          "output_type": "stream",
          "name": "stderr",
          "text": [
            "<ipython-input-3-a495acd078a4>:4: FutureWarning: casting datetime64[ns] values to int64 with .astype(...) is deprecated and will raise in a future version. Use .view(...) instead.\n",
            "  df[date] = pd.to_datetime(df[date], infer_datetime_format=True).astype('int64')\n"
          ]
        }
      ]
    },
    {
      "cell_type": "code",
      "source": [
        "X = df.iloc[ : , : 11]\n",
        "Y = df['death_yn']\n",
        "\n",
        "X_train, X_test, Y_train, Y_test = splits(X, Y, test_size=0.20, shuffle=True)\n",
        "print(len(X_train), len(X_test))"
      ],
      "metadata": {
        "colab": {
          "base_uri": "https://localhost:8080/"
        },
        "id": "71dQOqSDS4-N",
        "outputId": "8052f775-6010-4705-8439-7d3da6722dfa"
      },
      "execution_count": null,
      "outputs": [
        {
          "output_type": "stream",
          "name": "stdout",
          "text": [
            "207772 51943\n"
          ]
        }
      ]
    },
    {
      "cell_type": "code",
      "execution_count": null,
      "metadata": {
        "id": "3Wn-AQp6FDpM",
        "colab": {
          "base_uri": "https://localhost:8080/"
        },
        "outputId": "58a00bd8-f561-4fd9-cf25-738c9516b2c7"
      },
      "outputs": [
        {
          "output_type": "stream",
          "name": "stdout",
          "text": [
            "\n"
          ]
        }
      ],
      "source": [
        "# TODO: make sure your data can be converted to torch tensors\n",
        "train_X = torch.tensor(X_train.values)\n",
        "train_y = torch.tensor(Y_train.values)\n",
        "\n",
        "test_X = torch.tensor(X_test.values)\n",
        "test_y = torch.tensor(Y_test.values)\n",
        "\n",
        "\n",
        "# make datasets and dataloaders\n",
        "print()\n",
        "train_dataset = TensorDataset(train_X, train_y)\n",
        "test_dataset = TensorDataset(test_X, test_y)\n",
        "\n",
        "train_loader = torch.utils.data.DataLoader(train_dataset, batch_size=32, shuffle=True)\n",
        "test_loader = torch.utils.data.DataLoader(test_dataset, batch_size=32, shuffle=True) \n"
      ]
    },
    {
      "cell_type": "markdown",
      "metadata": {
        "id": "Ccx89l3btfq4"
      },
      "source": [
        "# Part B: Linear Neural Network"
      ]
    },
    {
      "cell_type": "markdown",
      "metadata": {
        "id": "aICcIvNtNGk2"
      },
      "source": [
        "## Model Setup"
      ]
    },
    {
      "cell_type": "code",
      "execution_count": null,
      "metadata": {
        "id": "qtMSBKxdFfjq"
      },
      "outputs": [],
      "source": [
        "model = nn.Sequential(nn.Linear(11, 5), nn.Linear(5, 1), nn.Sigmoid())\n",
        "loss_f = nn.SmoothL1Loss()\n",
        "optimizer = torch.optim.Adam(model.parameters(), lr=0.001)"
      ]
    },
    {
      "cell_type": "markdown",
      "metadata": {
        "id": "uKl5Tm2TNXxc"
      },
      "source": [
        "## Training Loop"
      ]
    },
    {
      "cell_type": "code",
      "execution_count": null,
      "metadata": {
        "id": "z-RVMsj0NaN7",
        "colab": {
          "base_uri": "https://localhost:8080/"
        },
        "outputId": "d3151884-8cfb-4bba-be7c-b612ef60251f"
      },
      "outputs": [
        {
          "output_type": "stream",
          "name": "stdout",
          "text": [
            "Train Epoch: 1  Loss: 0.2500\n",
            "Train Epoch: 2  Loss: 0.3750\n",
            "Train Epoch: 3  Loss: 0.3393\n",
            "Train Epoch: 4  Loss: 0.2500\n",
            "Train Epoch: 5  Loss: 0.3393\n",
            "Train Epoch: 6  Loss: 0.2500\n",
            "Train Epoch: 7  Loss: 0.3214\n",
            "Train Epoch: 8  Loss: 0.3214\n",
            "Train Epoch: 9  Loss: 0.2500\n",
            "Train Epoch: 10  Loss: 0.2857\n"
          ]
        }
      ],
      "source": [
        "# Some layers, such as Dropout, behave differently during training\n",
        "\n",
        "model.train()\n",
        "\n",
        "for epoch in range(10):\n",
        "    for batch_idx, (data, target) in enumerate(train_loader):\n",
        "        # Erase accumulated gradients\n",
        "        optimizer.zero_grad()\n",
        "\n",
        "        # Forward pass\n",
        "        output = model(data.float())\n",
        "\n",
        "        # Calculate loss\n",
        "        target = target.unsqueeze(1)\n",
        "        loss = loss_f(output, target.float())\n",
        "\n",
        "        # Backward pass\n",
        "        loss.backward()\n",
        "        \n",
        "        # Weight update\n",
        "        optimizer.step()\n",
        "\n",
        "    # Track loss each epoch\n",
        "    print('Train Epoch: %d  Loss: %.4f' % (epoch + 1,  loss.item()))\n",
        "# TODO: Write your training loop here."
      ]
    },
    {
      "cell_type": "markdown",
      "metadata": {
        "id": "YZCNGh5mNbE0"
      },
      "source": [
        "## Testing Loop"
      ]
    },
    {
      "cell_type": "code",
      "execution_count": null,
      "metadata": {
        "colab": {
          "base_uri": "https://localhost:8080/"
        },
        "id": "2SxnJ3eHNfgb",
        "outputId": "522122e6-a289-49ff-fc9e-88a9a244a0c9"
      },
      "outputs": [
        {
          "output_type": "stream",
          "name": "stdout",
          "text": [
            "Test set: Average loss: 0.0090, Accuracy: 50600/51943 (97.4145)\n"
          ]
        }
      ],
      "source": [
        "# Putting layers like Dropout into evaluation mode\n",
        "model.eval()\n",
        "test_loss = 0\n",
        "correct = 0\n",
        "\n",
        "# Turning off automatic differentiation\n",
        "with torch.no_grad():\n",
        "    for data, target in test_loader:\n",
        "        output = model(data.float())\n",
        "        test_loss += loss_f(output, (target.unsqueeze(1)).float()).item()  # Sum up batch loss\n",
        "        pred = output.argmax(dim=1, keepdim=True)  # Get the index of the max class score\n",
        "        correct += pred.eq((target.unsqueeze(1)).view_as(pred)).sum().item()\n",
        "\n",
        "test_loss /= len(test_loader.dataset)\n",
        "\n",
        "print('Test set: Average loss: %.4f, Accuracy: %d/%d (%.4f)' %\n",
        "      (test_loss, correct, len(test_loader.dataset),\n",
        "       100. * correct / len(test_loader.dataset)))"
      ]
    },
    {
      "cell_type": "markdown",
      "metadata": {
        "id": "sf9UHC-kZ25f"
      },
      "source": [
        "## Weight Matrix Visualization"
      ]
    },
    {
      "cell_type": "code",
      "execution_count": null,
      "metadata": {
        "id": "aBXDC10mRNto",
        "colab": {
          "base_uri": "https://localhost:8080/",
          "height": 286
        },
        "outputId": "2a00eb27-592f-4696-93b7-6072f78cc263"
      },
      "outputs": [
        {
          "output_type": "execute_result",
          "data": {
            "text/plain": [
              "<matplotlib.axes._subplots.AxesSubplot at 0x7f9adcbb19d0>"
            ]
          },
          "metadata": {},
          "execution_count": 9
        },
        {
          "output_type": "display_data",
          "data": {
            "text/plain": [
              "<Figure size 432x288 with 2 Axes>"
            ],
            "image/png": "[encoded data removed]"
          },
          "metadata": {
            "needs_background": "light"
          }
        }
      ],
      "source": [
        "weights = model.state_dict()['0.weight']\n",
        "\n",
        "sns.heatmap(weights)"
      ]
    },
    {
      "cell_type": "markdown",
      "metadata": {
        "id": "91H6-NUVZ8Gd"
      },
      "source": [
        "# Part C: 2-Layer Linear Model"
      ]
    },
    {
      "cell_type": "code",
      "execution_count": null,
      "metadata": {
        "id": "SUd6CAB-WebM"
      },
      "outputs": [],
      "source": [
        "model2 = nn.Sequential(nn.Linear(11, 5), nn.Linear(5, 4), nn.Sigmoid(), nn.Linear(4, 3), nn.Linear(3, 1), nn.Sigmoid())"
      ]
    },
    {
      "cell_type": "code",
      "source": [
        "# Some layers, such as Dropout, behave differently during training\n",
        "\n",
        "model2.train()\n",
        "\n",
        "for epoch in range(10):\n",
        "    for batch_idx, (data, target) in enumerate(train_loader):\n",
        "        # Erase accumulated gradients\n",
        "        optimizer.zero_grad()\n",
        "\n",
        "        # Forward pass\n",
        "        output = model2(data.float())\n",
        "\n",
        "        # Calculate loss\n",
        "        loss = loss_f(output, (target.unsqueeze(1)).float())\n",
        "\n",
        "        # Backward pass\n",
        "        loss.backward()\n",
        "        \n",
        "        # Weight update\n",
        "        optimizer.step()\n",
        "\n",
        "    # Track loss each epoch\n",
        "    print('Train Epoch: %d  Loss: %.4f' % (epoch + 1,  loss.item()))\n",
        "# TODO: Write your training loop here."
      ],
      "metadata": {
        "colab": {
          "base_uri": "https://localhost:8080/"
        },
        "id": "yyge3nDShdI_",
        "outputId": "f7ec44bb-4116-42e0-dc85-95d931b72391"
      },
      "execution_count": null,
      "outputs": [
        {
          "output_type": "stream",
          "name": "stdout",
          "text": [
            "Train Epoch: 1  Loss: 0.1346\n",
            "Train Epoch: 2  Loss: 0.1327\n",
            "Train Epoch: 3  Loss: 0.1345\n",
            "Train Epoch: 4  Loss: 0.1344\n",
            "Train Epoch: 5  Loss: 0.1327\n",
            "Train Epoch: 6  Loss: 0.1319\n",
            "Train Epoch: 7  Loss: 0.1341\n",
            "Train Epoch: 8  Loss: 0.1340\n",
            "Train Epoch: 9  Loss: 0.1325\n",
            "Train Epoch: 10  Loss: 0.1330\n"
          ]
        }
      ]
    },
    {
      "cell_type": "code",
      "source": [
        "# Putting layers like Dropout into evaluation mode\n",
        "model2.eval()\n",
        "test_loss = 0\n",
        "correct = 0\n",
        "\n",
        "# Turning off automatic differentiation\n",
        "with torch.no_grad():\n",
        "    for data, target in test_loader:\n",
        "        output = model2(data.float())\n",
        "        test_loss += loss_f(output, (target.unsqueeze(1)).float()).item()  # Sum up batch loss\n",
        "        pred = output.argmax(dim=1, keepdim=True)  # Get the index of the max class score\n",
        "        correct += pred.eq((target.unsqueeze(1)).view_as(pred)).sum().item()\n",
        "\n",
        "test_loss /= len(test_loader.dataset)\n",
        "\n",
        "print('Test set: Average loss: %.4f, Accuracy: %d/%d (%.4f)' %\n",
        "      (test_loss, correct, len(test_loader.dataset),\n",
        "       100. * correct / len(test_loader.dataset)))"
      ],
      "metadata": {
        "colab": {
          "base_uri": "https://localhost:8080/"
        },
        "id": "ViBEtuYnhnK0",
        "outputId": "d6c0e54b-19a3-4839-8270-effb5738ff0d"
      },
      "execution_count": null,
      "outputs": [
        {
          "output_type": "stream",
          "name": "stdout",
          "text": [
            "Test set: Average loss: 0.0042, Accuracy: 50600/51943 (97.4145)\n"
          ]
        }
      ]
    },
    {
      "cell_type": "code",
      "source": [
        "weights = model2.state_dict()['0.weight']\n",
        "\n",
        "sns.heatmap(weights)"
      ],
      "metadata": {
        "colab": {
          "base_uri": "https://localhost:8080/",
          "height": 282
        },
        "id": "oDWCdz35jJ3L",
        "outputId": "314479e0-9ab0-477a-b08f-5c81b957682f"
      },
      "execution_count": null,
      "outputs": [
        {
          "output_type": "execute_result",
          "data": {
            "text/plain": [
              "<matplotlib.axes._subplots.AxesSubplot at 0x7f9ae3788430>"
            ]
          },
          "metadata": {},
          "execution_count": 13
        },
        {
          "output_type": "display_data",
          "data": {
            "text/plain": [
              "<Figure size 432x288 with 2 Axes>"
            ],
            "image/png": "[encoded data removed]"
          },
          "metadata": {
            "needs_background": "light"
          }
        }
      ]
    }
  ],
  "metadata": {
    "colab": {
      "provenance": []
    },
    "kernelspec": {
      "display_name": "base",
      "language": "python",
      "name": "python3"
    },
    "language_info": {
      "name": "python",
      "version": "3.9.13 | packaged by conda-forge | (main, May 27 2022, 17:00:33) \n[Clang 13.0.1 ]"
    },
    "vscode": {
      "interpreter": {
        "hash": "4b5295d72cc8c3d140bbb6686d5919ce0ad0a523816efde1e1cd082b7d39dbc7"
      }
    }
  },
  "nbformat": 4,
  "nbformat_minor": 0
}